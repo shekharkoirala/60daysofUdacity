{
  "nbformat": 4,
  "nbformat_minor": 0,
  "metadata": {
    "colab": {
      "name": "GRE_WORDS.ipynb",
      "version": "0.3.2",
      "provenance": [],
      "include_colab_link": true
    },
    "kernelspec": {
      "name": "python3",
      "display_name": "Python 3"
    }
  },
  "cells": [
    {
      "cell_type": "markdown",
      "metadata": {
        "id": "view-in-github",
        "colab_type": "text"
      },
      "source": [
        "<a href=\"https://colab.research.google.com/github/shekharkoirala/60daysofUdacity/blob/master/notebooks/day10/GRE_WORDS.ipynb\" target=\"_parent\"><img src=\"https://colab.research.google.com/assets/colab-badge.svg\" alt=\"Open In Colab\"/></a>"
      ]
    },
    {
      "cell_type": "code",
      "metadata": {
        "id": "8hyZpb0C2368",
        "colab_type": "code",
        "cellView": "form",
        "colab": {}
      },
      "source": [
        "#@title Download the dataset\n",
        "import gspread\n",
        "import pandas as pd\n",
        "import numpy as np\n",
        "from oauth2client.service_account import ServiceAccountCredentials\n",
        "\n",
        "scope = ['https://spreadsheets.google.com/feeds','https://www.googleapis.com/auth/drive']\n",
        "creds = ServiceAccountCredentials.from_json_keyfile_name('My Project-da7ad0ae4f3d.json', scope)\n",
        "client = gspread.authorize(creds)\n",
        "\n",
        "sheet = client.open('GRE_WORDS').sheet1\n",
        "\n",
        "data = sheet.get_all_records()\n",
        "\n",
        "df = pd.DataFrame(data)\n",
        "arr = np.arange(len(df))\n",
        "out = np.random.permutation(arr) # random shuffle\n",
        "\n",
        "df = df.iloc[out].reset_index(drop=True)"
      ],
      "execution_count": 0,
      "outputs": []
    },
    {
      "cell_type": "code",
      "metadata": {
        "id": "I1Im40ezAVZk",
        "colab_type": "code",
        "cellView": "form",
        "colab": {}
      },
      "source": [
        "#@title GRE random words\n",
        "words = 5  #@param {type: \"number\"}"
      ],
      "execution_count": 0,
      "outputs": []
    },
    {
      "cell_type": "code",
      "metadata": {
        "id": "3CGH0UHPHqGJ",
        "colab_type": "code",
        "cellView": "form",
        "colab": {}
      },
      "source": [
        "#@title Shuffle Decks  [ only do it once ]\n",
        "last, curr = len(df), 0\n",
        "def genfunc(word_size):\n",
        "  global last, curr\n",
        "  while curr+word_size < last:\n",
        "      last, curr = last, curr + word_size\n",
        "      yield curr-word_size, curr\n",
        "  yield curr,last"
      ],
      "execution_count": 0,
      "outputs": []
    },
    {
      "cell_type": "code",
      "metadata": {
        "id": "Z9WZKWVAJJUL",
        "colab_type": "code",
        "cellView": "form",
        "outputId": "cfa984ad-ee77-402d-8381-c8fdf035f431",
        "colab": {
          "base_uri": "https://localhost:8080/",
          "height": 85
        }
      },
      "source": [
        "#@title show words\n",
        "l_c, h_c = next(genfunc(words))\n",
        "for word in list(df[l_c:h_c]['Words'].values):\n",
        "  print(word)"
      ],
      "execution_count": 0,
      "outputs": [
        {
          "output_type": "stream",
          "text": [
            "interdict\n",
            "intransigence\n",
            "portentous\n",
            "refractory\n"
          ],
          "name": "stdout"
        }
      ]
    },
    {
      "cell_type": "code",
      "metadata": {
        "id": "3MTE372_1qVa",
        "colab_type": "code",
        "cellView": "form",
        "outputId": "386a6316-05ae-4345-cccc-1e96e281fcf3",
        "colab": {
          "base_uri": "https://localhost:8080/",
          "height": 561
        }
      },
      "source": [
        "#@title show detail of words\n",
        "for key, data in df[l_c:h_c].iterrows():\n",
        "  print(\"\\t\\tMeaning: \\t\",data['Meaning'],\"\\n\\t\\tKey Things: \\t\",data[\"Key Things\"], \"\\n\",data['Words'],\"\\tSentence: \\t\", data['Sentences'], \"\\n\\t\\tSynonyms: \\t\",data['Synonyms'], \"\\n\\t\\tPOS: \\t\\t\", data['PartofSpeech'])\n",
        "  print(\"\\n------------------------------------------------------------------------------\\n\")"
      ],
      "execution_count": 0,
      "outputs": [
        {
          "output_type": "stream",
          "text": [
            "\t\tMeaning: \t prohibit, forbid  \n",
            "\t\tKey Things: \t prohibit \n",
            " interdict \tSentence: \t she is being interdicted to consume alchohol \n",
            "\t\tSynonyms: \t prohibit \n",
            "\t\tPOS: \t\t noun, verb\n",
            "\n",
            "------------------------------------------------------------------------------\n",
            "\n",
            "\t\tMeaning: \t unwilling, refuse to accept something \n",
            "\t\tKey Things: \t transigere : understanding \n",
            " intransigence \tSentence: \t I tried  persuasion, but she is intransigence \n",
            "\t\tSynonyms: \t obdurate, obstinate, unyielding, refractory \n",
            "\t\tPOS: \t\t adj, \n",
            "\n",
            "------------------------------------------------------------------------------\n",
            "\n",
            "\t\tMeaning: \t 1) Portent , momentous significance 2) done pompously to impress   \n",
            "\t\tKey Things: \t portent ( sign/ significance) ; pompous \n",
            " portentous \tSentence: \t A portentous year in Nepalese History ; Husband's portentous moralizing \n",
            "\t\tSynonyms: \t omnious, momentous, pompous, bombastic, pontificial, grandiloquent \n",
            "\t\tPOS: \t\t adj\n",
            "\n",
            "------------------------------------------------------------------------------\n",
            "\n",
            "\t\tMeaning: \t stubborn; unmanageable, resistant to process ; rebellious \n",
            "\t\tKey Things: \t factor the law \n",
            " refractory \tSentence: \t The refractory Employee \n",
            "\t\tSynonyms: \t obstinate, obdurate, intransigence \n",
            "\t\tPOS: \t\t Noun\n",
            "\n",
            "------------------------------------------------------------------------------\n",
            "\n"
          ],
          "name": "stdout"
        }
      ]
    },
    {
      "cell_type": "code",
      "metadata": {
        "id": "nLOZKftL-fof",
        "colab_type": "code",
        "colab": {}
      },
      "source": [
        ""
      ],
      "execution_count": 0,
      "outputs": []
    },
    {
      "cell_type": "code",
      "metadata": {
        "id": "52qOchdt__dX",
        "colab_type": "code",
        "colab": {}
      },
      "source": [
        ""
      ],
      "execution_count": 0,
      "outputs": []
    },
    {
      "cell_type": "code",
      "metadata": {
        "id": "qMVbJwLA_8gW",
        "colab_type": "code",
        "colab": {}
      },
      "source": [
        ""
      ],
      "execution_count": 0,
      "outputs": []
    },
    {
      "cell_type": "code",
      "metadata": {
        "id": "X_6aLLOd_8i1",
        "colab_type": "code",
        "colab": {}
      },
      "source": [
        ""
      ],
      "execution_count": 0,
      "outputs": []
    },
    {
      "cell_type": "code",
      "metadata": {
        "id": "5tlXL-W9_8lg",
        "colab_type": "code",
        "colab": {}
      },
      "source": [
        ""
      ],
      "execution_count": 0,
      "outputs": []
    },
    {
      "cell_type": "code",
      "metadata": {
        "id": "SZ27F3RA_8o6",
        "colab_type": "code",
        "colab": {}
      },
      "source": [
        ""
      ],
      "execution_count": 0,
      "outputs": []
    },
    {
      "cell_type": "code",
      "metadata": {
        "id": "mjSm5FQa_8a5",
        "colab_type": "code",
        "colab": {}
      },
      "source": [
        ""
      ],
      "execution_count": 0,
      "outputs": []
    },
    {
      "cell_type": "markdown",
      "metadata": {
        "id": "JoAZ4bS4-_ZR",
        "colab_type": "text"
      },
      "source": [
        "#### create a project : https://console.developers.google.com/flows/enableapi?apiid=drive\n"
      ]
    },
    {
      "cell_type": "markdown",
      "metadata": {
        "id": "-VkHRpkk_phe",
        "colab_type": "text"
      },
      "source": [
        "![alt text](https://miro.medium.com/max/700/1*vKGuojn7KZV7HAvPY95_DA.png)"
      ]
    },
    {
      "cell_type": "markdown",
      "metadata": {
        "id": "qqU7Y0dq_q22",
        "colab_type": "text"
      },
      "source": [
        "![alt text](https://miro.medium.com/max/700/1*QfSJxeF3fpb7DBtuXRyiHQ.png)"
      ]
    },
    {
      "cell_type": "markdown",
      "metadata": {
        "id": "PUAri7xF_D1H",
        "colab_type": "text"
      },
      "source": [
        "![alt text](https://miro.medium.com/max/650/1*XVy7hsGwyiNwSx-7hQXL8A.png)"
      ]
    },
    {
      "cell_type": "markdown",
      "metadata": {
        "id": "_fZi4yn8_ZOA",
        "colab_type": "text"
      },
      "source": [
        "![alt text](https://miro.medium.com/max/515/1*JX-kGwwY6hSLetlxtE8O5Q.png)"
      ]
    },
    {
      "cell_type": "code",
      "metadata": {
        "id": "Bar2neTi-gTN",
        "colab_type": "code",
        "colab": {}
      },
      "source": [
        ""
      ],
      "execution_count": 0,
      "outputs": []
    }
  ]
}